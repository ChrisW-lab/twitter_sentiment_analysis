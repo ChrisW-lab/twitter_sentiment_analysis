{
 "cells": [
  {
   "cell_type": "code",
   "execution_count": 4,
   "metadata": {},
   "outputs": [],
   "source": [
    "import os\n",
    "import pandas as pd\n",
    "import seaborn as sns\n",
    "import re\n",
    "import numpy as np"
   ]
  },
  {
   "cell_type": "code",
   "execution_count": 5,
   "metadata": {},
   "outputs": [
    {
     "data": {
      "text/plain": [
       "['bow_adam_lr_0.0005_hl1_64_hl2_0_hl3_0_run_1_training_log.csv',\n",
       " 'bow_adam_lr_0.0005_hl1_16_hl2_0_hl3_0_run_0_training_log.csv',\n",
       " 'bow_adam_lr_0.0003_hl1_8_hl2_0_hl3_0_run_0_training_log.csv',\n",
       " 'bow_adam_lr_0.0005_hl1_32_hl2_0_hl3_0_run_0_training_log.csv',\n",
       " '.DS_Store',\n",
       " 'bow_adam_lr_0.0003_hl1_32_hl2_0_hl3_0_run_0_training_log.csv',\n",
       " 'bow_adam_lr_0.001_hl1_16_hl2_0_hl3_0_run_1_training_log.csv',\n",
       " 'bow_adam_lr_0.001_hl1_64_hl2_0_hl3_0_run_0_training_log.csv',\n",
       " 'bow_rms_lr_0.0003_hl1_32_hl2_0_hl3_0_run_1_training_log.csv',\n",
       " 'bow_adam_lr_0.0003_hl1_16_hl2_0_hl3_0_run_0_training_log.csv',\n",
       " 'bow_adam_lr_0.0003_hl1_64_hl2_0_hl3_0_run_1_training_log.csv',\n",
       " 'bow_rms_lr_0.0003_hl1_16_hl2_0_hl3_0_run_1_training_log.csv',\n",
       " 'bow_adam_lr_0.001_hl1_32_hl2_0_hl3_0_run_1_training_log.csv',\n",
       " 'bow_adam_lr_0.0003_hl1_8_hl2_0_hl3_0_run_1_training_log.csv',\n",
       " 'bow_adam_lr_0.0005_hl1_64_hl2_0_hl3_0_run_0_training_log.csv',\n",
       " 'bow_adam_lr_0.0005_hl1_16_hl2_0_hl3_0_run_1_training_log.csv',\n",
       " 'bow_adam_lr_0.0005_hl1_32_hl2_0_hl3_0_run_1_training_log.csv',\n",
       " 'bow_rms_lr_0.0003_hl1_32_hl2_0_hl3_0_run_0_training_log.csv',\n",
       " 'bow_adam_lr_0.001_hl1_16_hl2_0_hl3_0_run_0_training_log.csv',\n",
       " 'bow_adam_lr_0.001_hl1_64_hl2_0_hl3_0_run_1_training_log.csv',\n",
       " 'bow_adam_lr_0.0003_hl1_32_hl2_0_hl3_0_run_1_training_log.csv',\n",
       " 'bow_adam_lr_0.001_hl1_32_hl2_0_hl3_0_run_0_training_log.csv',\n",
       " 'bow_rms_lr_0.0003_hl1_16_hl2_0_hl3_0_run_0_training_log.csv',\n",
       " 'bow_adam_lr_0.0003_hl1_16_hl2_0_hl3_0_run_1_training_log.csv',\n",
       " 'bow_adam_lr_0.0003_hl1_64_hl2_0_hl3_0_run_0_training_log.csv',\n",
       " 'bow_adam_lr_0.0005_hl1_8_hl2_0_hl3_0_run_1_training_log.csv',\n",
       " 'bow_adam_lr_0.005_hl1_32_hl2_0_hl3_0_run_1_training_log.csv',\n",
       " 'bow_adam_lr_0.0001_hl1_8_hl2_0_hl3_0_run_1_training_log.csv',\n",
       " 'bow_adam_lr_0.005_hl1_64_hl2_0_hl3_0_run_0_training_log.csv',\n",
       " 'bow_adam_lr_0.005_hl1_16_hl2_0_hl3_0_run_1_training_log.csv',\n",
       " 'bow_adam_lr_0.0001_hl1_32_hl2_0_hl3_0_run_0_training_log.csv',\n",
       " 'bow_adam_lr_0.001_hl1_8_hl2_0_hl3_0_run_1_training_log.csv',\n",
       " 'bow_adam_lr_0.0001_hl1_16_hl2_0_hl3_0_run_0_training_log.csv',\n",
       " 'bow_adam_lr_0.0001_hl1_64_hl2_0_hl3_0_run_1_training_log.csv',\n",
       " 'bow_adam_lr_0.005_hl1_8_hl2_0_hl3_0_run_1_training_log.csv',\n",
       " 'bow_adam_lr_0.005_hl1_32_hl2_0_hl3_0_run_0_training_log.csv',\n",
       " 'bow_adam_lr_0.0005_hl1_8_hl2_0_hl3_0_run_0_training_log.csv',\n",
       " 'bow_adam_lr_0.005_hl1_64_hl2_0_hl3_0_run_1_training_log.csv',\n",
       " 'bow_adam_lr_0.005_hl1_16_hl2_0_hl3_0_run_0_training_log.csv',\n",
       " 'bow_adam_lr_0.0001_hl1_8_hl2_0_hl3_0_run_0_training_log.csv',\n",
       " 'bow_adam_lr_0.001_hl1_8_hl2_0_hl3_0_run_0_training_log.csv',\n",
       " 'bow_adam_lr_0.0001_hl1_32_hl2_0_hl3_0_run_1_training_log.csv',\n",
       " 'bow_adam_lr_0.005_hl1_8_hl2_0_hl3_0_run_0_training_log.csv',\n",
       " 'bow_adam_lr_0.0001_hl1_16_hl2_0_hl3_0_run_1_training_log.csv',\n",
       " 'bow_adam_lr_0.0001_hl1_64_hl2_0_hl3_0_run_0_training_log.csv']"
      ]
     },
     "execution_count": 5,
     "metadata": {},
     "output_type": "execute_result"
    }
   ],
   "source": [
    "# go to the bow training logs directory and check out what is in it\n",
    "os.chdir('/Users/chriswall/Desktop/repos/project_wallc_ds/sub_training/results_bow/training_logs/')\n",
    "os.listdir()"
   ]
  },
  {
   "cell_type": "code",
   "execution_count": 7,
   "metadata": {},
   "outputs": [
    {
     "name": "stdout",
     "output_type": "stream",
     "text": [
      "bow_adam_lr_0.0003_hl1_8_hl2_0_hl3_0_run_0_training_log.csv\n",
      "bow_adam_lr_0.0003_hl1_32_hl2_0_hl3_0_run_0_training_log.csv\n",
      "bow_rms_lr_0.0003_hl1_32_hl2_0_hl3_0_run_1_training_log.csv\n",
      "bow_adam_lr_0.0003_hl1_16_hl2_0_hl3_0_run_0_training_log.csv\n",
      "bow_adam_lr_0.0003_hl1_64_hl2_0_hl3_0_run_1_training_log.csv\n",
      "bow_rms_lr_0.0003_hl1_16_hl2_0_hl3_0_run_1_training_log.csv\n",
      "bow_adam_lr_0.0003_hl1_8_hl2_0_hl3_0_run_1_training_log.csv\n",
      "bow_rms_lr_0.0003_hl1_32_hl2_0_hl3_0_run_0_training_log.csv\n",
      "bow_adam_lr_0.0003_hl1_32_hl2_0_hl3_0_run_1_training_log.csv\n",
      "bow_rms_lr_0.0003_hl1_16_hl2_0_hl3_0_run_0_training_log.csv\n",
      "bow_adam_lr_0.0003_hl1_16_hl2_0_hl3_0_run_1_training_log.csv\n",
      "bow_adam_lr_0.0003_hl1_64_hl2_0_hl3_0_run_0_training_log.csv\n"
     ]
    }
   ],
   "source": [
    "learning_rates = ['0.0003']\n",
    "for lr in learning_rates:\n",
    "    for filename in os.listdir():\n",
    "        if lr in filename:\n",
    "            print(filename)"
   ]
  },
  {
   "cell_type": "code",
   "execution_count": null,
   "metadata": {},
   "outputs": [],
   "source": [
    "\n",
    "regexhl2 = re.compile(r'hl2_0_')\n",
    "regexhl3 = re.compile(r'hl3_0_')"
   ]
  }
 ],
 "metadata": {
  "kernelspec": {
   "display_name": "Python 3",
   "language": "python",
   "name": "python3"
  },
  "language_info": {
   "codemirror_mode": {
    "name": "ipython",
    "version": 3
   },
   "file_extension": ".py",
   "mimetype": "text/x-python",
   "name": "python",
   "nbconvert_exporter": "python",
   "pygments_lexer": "ipython3",
   "version": "3.7.1"
  }
 },
 "nbformat": 4,
 "nbformat_minor": 2
}
